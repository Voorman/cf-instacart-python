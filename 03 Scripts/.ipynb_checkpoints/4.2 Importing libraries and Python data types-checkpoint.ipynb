{
 "cells": [
  {
   "cell_type": "markdown",
   "metadata": {},
   "source": [
    "# 01. Importing libraries"
   ]
  },
  {
   "cell_type": "code",
   "execution_count": 1,
   "metadata": {},
   "outputs": [],
   "source": [
    "# Import libraries\n",
    "import pandas as pd\n",
    "import numpy as np\n",
    "import os"
   ]
  },
  {
   "cell_type": "markdown",
   "metadata": {},
   "source": [
    "# 02. Working with Python data types"
   ]
  },
  {
   "cell_type": "code",
   "execution_count": 12,
   "metadata": {},
   "outputs": [
    {
     "name": "stdout",
     "output_type": "stream",
     "text": [
      "x:  100\n",
      "y:  100\n",
      "z:  100\n"
     ]
    }
   ],
   "source": [
    "# task 7: Code 3 different ways of reaching a result of 100 by adding or subtracting numeric variables.\n",
    "\n",
    "x = 30\n",
    "x = x + 70\n",
    "print(\"x: \",x)\n",
    "\n",
    "y = 20\n",
    "y = y + 50 + 40 - 10\n",
    "print(\"y: \",y)\n",
    "\n",
    "z = 33\n",
    "z = z + 152 - 85 \n",
    "print(\"z: \",z)\n"
   ]
  },
  {
   "cell_type": "code",
   "execution_count": 14,
   "metadata": {},
   "outputs": [
    {
     "name": "stdout",
     "output_type": "stream",
     "text": [
      "w*v =  1.75\n"
     ]
    }
   ],
   "source": [
    "# task 8: Code 2 floating-point variables and divide them by each other.\n",
    "\n",
    "w = 7.777\n",
    "v = 4.444\n",
    "\n",
    "print(\"w*v = \",w/v)\n"
   ]
  },
  {
   "cell_type": "code",
   "execution_count": 21,
   "metadata": {},
   "outputs": [
    {
     "name": "stdout",
     "output_type": "stream",
     "text": [
      "Hallo World\n"
     ]
    }
   ],
   "source": [
    "# task 9: Construct a short word made of separate strings (you’ll need to concatenate some strings!).\n",
    "a = 'Ha'\n",
    "b = 'llo'\n",
    "c = 'Wo'\n",
    "d = 'rld'\n",
    "\n",
    "print(a + b,c + d)\n"
   ]
  },
  {
   "cell_type": "code",
   "execution_count": 25,
   "metadata": {},
   "outputs": [
    {
     "name": "stdout",
     "output_type": "stream",
     "text": [
      "The final task is to construct  2 short sentences.\n",
      "Made of seperate strings\n"
     ]
    }
   ],
   "source": [
    "# task 10: Construct 2 short sentences made of separate strings.\n",
    "\n",
    "e = 'The final task'\n",
    "f = 'is to construct'\n",
    "g = '2 short sentences.'\n",
    "h = 'Made of'\n",
    "i = 'seperate strings'\n",
    "\n",
    "print(e,f,g)\n",
    "print(h,i)"
   ]
  },
  {
   "cell_type": "markdown",
   "metadata": {},
   "source": []
  },
  {
   "cell_type": "code",
   "execution_count": 34,
   "metadata": {},
   "outputs": [
    {
     "name": "stdout",
     "output_type": "stream",
     "text": [
      "Print this string 100 times. This is number: 1\n",
      "Print this string 100 times. This is number: 2\n",
      "Print this string 100 times. This is number: 3\n",
      "Print this string 100 times. This is number: 4\n",
      "Print this string 100 times. This is number: 5\n",
      "Print this string 100 times. This is number: 6\n",
      "Print this string 100 times. This is number: 7\n",
      "Print this string 100 times. This is number: 8\n",
      "Print this string 100 times. This is number: 9\n",
      "Print this string 100 times. This is number: 10\n",
      "Print this string 100 times. This is number: 11\n",
      "Print this string 100 times. This is number: 12\n",
      "Print this string 100 times. This is number: 13\n",
      "Print this string 100 times. This is number: 14\n",
      "Print this string 100 times. This is number: 15\n",
      "Print this string 100 times. This is number: 16\n",
      "Print this string 100 times. This is number: 17\n",
      "Print this string 100 times. This is number: 18\n",
      "Print this string 100 times. This is number: 19\n",
      "Print this string 100 times. This is number: 20\n",
      "Print this string 100 times. This is number: 21\n",
      "Print this string 100 times. This is number: 22\n",
      "Print this string 100 times. This is number: 23\n",
      "Print this string 100 times. This is number: 24\n",
      "Print this string 100 times. This is number: 25\n",
      "Print this string 100 times. This is number: 26\n",
      "Print this string 100 times. This is number: 27\n",
      "Print this string 100 times. This is number: 28\n",
      "Print this string 100 times. This is number: 29\n",
      "Print this string 100 times. This is number: 30\n",
      "Print this string 100 times. This is number: 31\n",
      "Print this string 100 times. This is number: 32\n",
      "Print this string 100 times. This is number: 33\n",
      "Print this string 100 times. This is number: 34\n",
      "Print this string 100 times. This is number: 35\n",
      "Print this string 100 times. This is number: 36\n",
      "Print this string 100 times. This is number: 37\n",
      "Print this string 100 times. This is number: 38\n",
      "Print this string 100 times. This is number: 39\n",
      "Print this string 100 times. This is number: 40\n",
      "Print this string 100 times. This is number: 41\n",
      "Print this string 100 times. This is number: 42\n",
      "Print this string 100 times. This is number: 43\n",
      "Print this string 100 times. This is number: 44\n",
      "Print this string 100 times. This is number: 45\n",
      "Print this string 100 times. This is number: 46\n",
      "Print this string 100 times. This is number: 47\n",
      "Print this string 100 times. This is number: 48\n",
      "Print this string 100 times. This is number: 49\n",
      "Print this string 100 times. This is number: 50\n",
      "Print this string 100 times. This is number: 51\n",
      "Print this string 100 times. This is number: 52\n",
      "Print this string 100 times. This is number: 53\n",
      "Print this string 100 times. This is number: 54\n",
      "Print this string 100 times. This is number: 55\n",
      "Print this string 100 times. This is number: 56\n",
      "Print this string 100 times. This is number: 57\n",
      "Print this string 100 times. This is number: 58\n",
      "Print this string 100 times. This is number: 59\n",
      "Print this string 100 times. This is number: 60\n",
      "Print this string 100 times. This is number: 61\n",
      "Print this string 100 times. This is number: 62\n",
      "Print this string 100 times. This is number: 63\n",
      "Print this string 100 times. This is number: 64\n",
      "Print this string 100 times. This is number: 65\n",
      "Print this string 100 times. This is number: 66\n",
      "Print this string 100 times. This is number: 67\n",
      "Print this string 100 times. This is number: 68\n",
      "Print this string 100 times. This is number: 69\n",
      "Print this string 100 times. This is number: 70\n",
      "Print this string 100 times. This is number: 71\n",
      "Print this string 100 times. This is number: 72\n",
      "Print this string 100 times. This is number: 73\n",
      "Print this string 100 times. This is number: 74\n",
      "Print this string 100 times. This is number: 75\n",
      "Print this string 100 times. This is number: 76\n",
      "Print this string 100 times. This is number: 77\n",
      "Print this string 100 times. This is number: 78\n",
      "Print this string 100 times. This is number: 79\n",
      "Print this string 100 times. This is number: 80\n",
      "Print this string 100 times. This is number: 81\n",
      "Print this string 100 times. This is number: 82\n",
      "Print this string 100 times. This is number: 83\n",
      "Print this string 100 times. This is number: 84\n",
      "Print this string 100 times. This is number: 85\n",
      "Print this string 100 times. This is number: 86\n",
      "Print this string 100 times. This is number: 87\n",
      "Print this string 100 times. This is number: 88\n",
      "Print this string 100 times. This is number: 89\n",
      "Print this string 100 times. This is number: 90\n",
      "Print this string 100 times. This is number: 91\n",
      "Print this string 100 times. This is number: 92\n",
      "Print this string 100 times. This is number: 93\n",
      "Print this string 100 times. This is number: 94\n",
      "Print this string 100 times. This is number: 95\n",
      "Print this string 100 times. This is number: 96\n",
      "Print this string 100 times. This is number: 97\n",
      "Print this string 100 times. This is number: 98\n",
      "Print this string 100 times. This is number: 99\n",
      "Print this string 100 times. This is number: 100\n"
     ]
    }
   ],
   "source": [
    "# bonus task: Include a command that makes a string appear 100 times.\n",
    "\n",
    "for i in range(100):\n",
    "    if i < 100:\n",
    "        print(\"Print this string 100 times. This is number:\",i+1) "
   ]
  }
 ],
 "metadata": {
  "interpreter": {
   "hash": "cb10f57311695518ab5c143d1ab66256429f755ab7d81f20b84631e6f275f814"
  },
  "kernelspec": {
   "display_name": "Python [conda env:minimal_ds]",
   "language": "python",
   "name": "conda-env-minimal_ds-py"
  },
  "language_info": {
   "codemirror_mode": {
    "name": "ipython",
    "version": 3
   },
   "file_extension": ".py",
   "mimetype": "text/x-python",
   "name": "python",
   "nbconvert_exporter": "python",
   "pygments_lexer": "ipython3",
   "version": "3.10.0"
  }
 },
 "nbformat": 4,
 "nbformat_minor": 2
}
