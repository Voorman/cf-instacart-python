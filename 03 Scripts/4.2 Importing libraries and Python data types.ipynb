{
 "cells": [
  {
   "cell_type": "markdown",
   "metadata": {},
   "source": [
    "## 4.2 Importing libraries and Python data types"
   ]
  },
  {
   "cell_type": "markdown",
   "metadata": {},
   "source": [
    "## Table of Contents\n",
    "\n",
    "1. [Working with Python data types](#wwd)\n"
   ]
  },
  {
   "cell_type": "code",
   "execution_count": 1,
   "metadata": {},
   "outputs": [],
   "source": [
    "# Import libraries\n",
    "import pandas as pd\n",
    "import numpy as np\n",
    "import os"
   ]
  },
  {
   "cell_type": "markdown",
   "metadata": {},
   "source": [
    "### 01. Working with Python data types<a class=\"anchor\" id=\"wwd\"></a>"
   ]
  },
  {
   "cell_type": "code",
   "execution_count": 12,
   "metadata": {},
   "outputs": [
    {
     "name": "stdout",
     "output_type": "stream",
     "text": [
      "x:  100\n",
      "y:  100\n",
      "z:  100\n"
     ]
    }
   ],
   "source": [
    "# task 7: Code 3 different ways of reaching a result of 100 by adding or subtracting numeric variables.\n",
    "\n",
    "x = 30\n",
    "x = x + 70\n",
    "print(\"x: \",x)\n",
    "\n",
    "y = 20\n",
    "y = y + 50 + 40 - 10\n",
    "print(\"y: \",y)\n",
    "\n",
    "z = 33\n",
    "z = z + 152 - 85 \n",
    "print(\"z: \",z)\n"
   ]
  },
  {
   "cell_type": "code",
   "execution_count": 14,
   "metadata": {},
   "outputs": [
    {
     "name": "stdout",
     "output_type": "stream",
     "text": [
      "w*v =  1.75\n"
     ]
    }
   ],
   "source": [
    "# task 8: Code 2 floating-point variables and divide them by each other.\n",
    "\n",
    "w = 7.777\n",
    "v = 4.444\n",
    "\n",
    "print(\"w*v = \",w/v)\n"
   ]
  },
  {
   "cell_type": "code",
   "execution_count": 21,
   "metadata": {},
   "outputs": [
    {
     "name": "stdout",
     "output_type": "stream",
     "text": [
      "Hallo World\n"
     ]
    }
   ],
   "source": [
    "# task 9: Construct a short word made of separate strings (you’ll need to concatenate some strings!).\n",
    "a = 'Ha'\n",
    "b = 'llo'\n",
    "c = 'Wo'\n",
    "d = 'rld'\n",
    "\n",
    "print(a + b,c + d)\n"
   ]
  },
  {
   "cell_type": "code",
   "execution_count": 25,
   "metadata": {},
   "outputs": [
    {
     "name": "stdout",
     "output_type": "stream",
     "text": [
      "The final task is to construct  2 short sentences.\n",
      "Made of seperate strings\n"
     ]
    }
   ],
   "source": [
    "# task 10: Construct 2 short sentences made of separate strings.\n",
    "\n",
    "e = 'The final task'\n",
    "f = 'is to construct'\n",
    "g = '2 short sentences.'\n",
    "h = 'Made of'\n",
    "i = 'seperate strings'\n",
    "\n",
    "print(e,f,g)\n",
    "print(h,i)"
   ]
  },
  {
   "cell_type": "markdown",
   "metadata": {},
   "source": [
    "Bonus Task"
   ]
  },
  {
   "cell_type": "code",
   "execution_count": null,
   "metadata": {},
   "outputs": [],
   "source": [
    "# bonus task: Include a command that makes a string appear 100 times.\n",
    "\n",
    "for i in range(1, 100):\n",
    "    if i < 100:\n",
    "        print(\"Print this string 100 times. This is number: %d\" % i) "
   ]
  }
 ],
 "metadata": {
  "interpreter": {
   "hash": "cb10f57311695518ab5c143d1ab66256429f755ab7d81f20b84631e6f275f814"
  },
  "kernelspec": {
   "display_name": "Python [conda env:minimal_ds]",
   "language": "python",
   "name": "python3"
  },
  "language_info": {
   "codemirror_mode": {
    "name": "ipython",
    "version": 3
   },
   "file_extension": ".py",
   "mimetype": "text/x-python",
   "name": "python",
   "nbconvert_exporter": "python",
   "pygments_lexer": "ipython3",
   "version": "3.10.0"
  }
 },
 "nbformat": 4,
 "nbformat_minor": 2
}
