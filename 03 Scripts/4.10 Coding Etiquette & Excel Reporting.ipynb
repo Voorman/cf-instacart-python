{
 "cells": [
  {
   "cell_type": "markdown",
   "metadata": {},
   "source": [
    "## 4.10 Coding Etiquette & Excel Reporting\n"
   ]
  },
  {
   "cell_type": "markdown",
   "metadata": {},
   "source": [
    "## Table of Contents\n",
    "\n",
    "1. [Importing data](#imp)\n",
    "2. [Tasks](#tasks)\n",
    "   1. [Task 2](#task2)\n",
    "   2. [Task 3a](#task3a)\n",
    "   3. [Task 3b](#task3b)\n",
    "   4. [Task 4](#task4)\n",
    "   5. [Task 5](#task5)\n",
    "   6. [Task 6](#task6)\n",
    "   7. [Task 7](#task7)\n",
    "   8. [Task 8](#task8)\n",
    "   9. [Task 9](#task9)\n"
   ]
  },
  {
   "cell_type": "code",
   "execution_count": 2,
   "metadata": {},
   "outputs": [],
   "source": [
    "# Import libraries\n",
    "\n",
    "import pandas as pd\n",
    "import numpy as np\n",
    "import os\n",
    "import matplotlib.pyplot as plt\n",
    "import seaborn as sns\n",
    "import scipy\n"
   ]
  },
  {
   "cell_type": "markdown",
   "metadata": {},
   "source": [
    "### 1. Importing data <a class=\"anchor\" id=\"imp\"></a>\n"
   ]
  },
  {
   "cell_type": "code",
   "execution_count": 3,
   "metadata": {},
   "outputs": [],
   "source": [
    "# Load final data set\n",
    "\n",
    "# set path\n",
    "path = r'/Users/ivarvoorman/CareerFoundry/Data Analytics/Data Immersion/4 Python Fundamentals for Data Analysts/01-2022 Instacart Basket Analysis'\n",
    "\n",
    "# Load orders_products_merged_enriched.pkl to dataframe ords_prods_merge\n",
    "df_ords_prods_all = pd.read_pickle(os.path.join(\n",
    "    path, '02 Data', 'Prepared Data', 'ords_prods_cust_merge.pkl'))\n"
   ]
  },
  {
   "cell_type": "markdown",
   "metadata": {},
   "source": [
    "### 2. Tasks <a class=\"anchor\" id=\"tasks\"></a>\n"
   ]
  },
  {
   "cell_type": "markdown",
   "metadata": {},
   "source": [
    "##### 1. Task 2 <a class=\"anchor\" id=\"task2\"></a>\n"
   ]
  },
  {
   "cell_type": "markdown",
   "metadata": {},
   "source": [
    "Consider any security implications that might exist for this new data. You’ll need to address any PII data in the data before continuing your analysis.\n",
    "\n",
    "According to PII the first_name and last_name must be removed from the data for this data analysis\n"
   ]
  },
  {
   "cell_type": "code",
   "execution_count": 4,
   "metadata": {},
   "outputs": [],
   "source": [
    "# Create a new version of df_ords_prods_cust_merged without the \"first_name\" and \"last_name\" columns called df_ords_prods_cust_merged_2\n",
    "df_ords_prods_all_pii = df_ords_prods_all.drop(\n",
    "    columns=['first_name', 'last_name'])\n"
   ]
  },
  {
   "cell_type": "markdown",
   "metadata": {},
   "source": [
    "##### 2. Task 3a <a class=\"anchor\" id=\"task3a\"></a>\n"
   ]
  },
  {
   "cell_type": "markdown",
   "metadata": {},
   "source": [
    "Task 3a  \n",
    "Create a regional segmentation of the data. You’ll need to create a “Region” column based on the “State” column from your customers data set.Task3Tdsfs\n"
   ]
  },
  {
   "cell_type": "code",
   "execution_count": null,
   "metadata": {},
   "outputs": [],
   "source": [
    "# Get frequency for column state\n",
    "df_ords_prods_all_pii['state'].value_counts(dropna=True)\n"
   ]
  },
  {
   "cell_type": "code",
   "execution_count": 6,
   "metadata": {},
   "outputs": [],
   "source": [
    "# Create list \"Region_1\" with states from the Northeast region\n",
    "Region_1 = ['Maine', 'New Hampshire', 'Vermont', 'Massachusetts', 'Rhode Island', 'Connecticut',\n",
    "            'New York', 'Pennsylvania', 'New Jersey']\n"
   ]
  },
  {
   "cell_type": "code",
   "execution_count": 7,
   "metadata": {},
   "outputs": [],
   "source": [
    "# Create list \"Region_2\" with states from the Midwest region\n",
    "Region_2 = ['Wisconsin', 'Michigan', 'Illinois', 'Indiana', 'Ohio', 'North Dakota', 'South Dakota',\n",
    "            'Nebraska', 'Kansas', 'Minnesota', 'Iowa', 'Missouri']\n"
   ]
  },
  {
   "cell_type": "code",
   "execution_count": 8,
   "metadata": {},
   "outputs": [],
   "source": [
    "# Create list \"Region_3\" with states from the South region\n",
    "Region_3 = ['Delaware', 'Maryland', 'District of Columbia', 'Virginia', 'West Virginia', 'North Carolina',\n",
    "            'South Carolina', 'Georgia', 'Florida', 'Kentucky', 'Tennessee', 'Mississippi', 'Alabama', 'Oklahoma',\n",
    "            'Texas', 'Arkansas', 'Louisiana']\n"
   ]
  },
  {
   "cell_type": "code",
   "execution_count": 9,
   "metadata": {},
   "outputs": [],
   "source": [
    "# Create list \"Region_4\" with states from the West region\n",
    "Region_4 = ['Idaho', 'Montana', 'Wyoming', 'Nevada', 'Utah', 'Colorado', 'Arizona', 'New Mexico', 'Alaska', 'Washington',\n",
    "            'Oregon', 'California', 'Hawaii']\n"
   ]
  },
  {
   "cell_type": "code",
   "execution_count": 10,
   "metadata": {},
   "outputs": [],
   "source": [
    "# Create list \"Region\" based on state value in ords_prods_all\n",
    "Region = []\n",
    "\n",
    "for value in df_ords_prods_all_pii[\"state\"]:\n",
    "    if value in Region_1:\n",
    "        Region.append(\"Northeast\")\n",
    "    elif value in Region_2:\n",
    "        Region.append(\"Midwest\")\n",
    "    elif value in Region_3:\n",
    "        Region.append(\"South\")\n",
    "    elif value in Region_4:\n",
    "        Region.append(\"West\")\n",
    "    else:\n",
    "        Region.append(\"NoRegionFound\")\n"
   ]
  },
  {
   "cell_type": "code",
   "execution_count": 11,
   "metadata": {},
   "outputs": [],
   "source": [
    "# Combining Region list with ords_prods_all\n",
    "df_ords_prods_all_pii['region'] = Region\n"
   ]
  },
  {
   "cell_type": "code",
   "execution_count": 12,
   "metadata": {},
   "outputs": [
    {
     "data": {
      "text/plain": [
       "South        10791885\n",
       "West          8292913\n",
       "Midwest       7597325\n",
       "Northeast     5722736\n",
       "Name: region, dtype: int64"
      ]
     },
     "execution_count": 12,
     "metadata": {},
     "output_type": "execute_result"
    }
   ],
   "source": [
    "# Check the values for column region\n",
    "df_ords_prods_all_pii['region'].value_counts(dropna=False)\n"
   ]
  },
  {
   "cell_type": "markdown",
   "metadata": {},
   "source": [
    "##### 3. Task 3b <a class=\"anchor\" id=\"task3b\"></a>\n"
   ]
  },
  {
   "cell_type": "markdown",
   "metadata": {},
   "source": [
    "Task 3b:  \n",
    "Determine whether there’s a difference in spending habits between the different U.S. regions. (Hint: You can do this by crossing the variable you just created with the spending flag.)\n"
   ]
  },
  {
   "cell_type": "code",
   "execution_count": 13,
   "metadata": {},
   "outputs": [],
   "source": [
    "# Create crosstab\n",
    "crosstab = pd.crosstab(\n",
    "    df_ords_prods_all_pii['region'], df_ords_prods_all_pii['spending_flag'], dropna=False)\n"
   ]
  },
  {
   "cell_type": "code",
   "execution_count": 14,
   "metadata": {},
   "outputs": [
    {
     "data": {
      "text/html": [
       "<div>\n",
       "<style scoped>\n",
       "    .dataframe tbody tr th:only-of-type {\n",
       "        vertical-align: middle;\n",
       "    }\n",
       "\n",
       "    .dataframe tbody tr th {\n",
       "        vertical-align: top;\n",
       "    }\n",
       "\n",
       "    .dataframe thead th {\n",
       "        text-align: right;\n",
       "    }\n",
       "</style>\n",
       "<table border=\"1\" class=\"dataframe\">\n",
       "  <thead>\n",
       "    <tr style=\"text-align: right;\">\n",
       "      <th>spending_flag</th>\n",
       "      <th>High spender</th>\n",
       "      <th>Low spender</th>\n",
       "    </tr>\n",
       "    <tr>\n",
       "      <th>region</th>\n",
       "      <th></th>\n",
       "      <th></th>\n",
       "    </tr>\n",
       "  </thead>\n",
       "  <tbody>\n",
       "    <tr>\n",
       "      <th>Midwest</th>\n",
       "      <td>29265</td>\n",
       "      <td>7568060</td>\n",
       "    </tr>\n",
       "    <tr>\n",
       "      <th>Northeast</th>\n",
       "      <td>18642</td>\n",
       "      <td>5704094</td>\n",
       "    </tr>\n",
       "    <tr>\n",
       "      <th>South</th>\n",
       "      <td>40579</td>\n",
       "      <td>10751306</td>\n",
       "    </tr>\n",
       "    <tr>\n",
       "      <th>West</th>\n",
       "      <td>31242</td>\n",
       "      <td>8261671</td>\n",
       "    </tr>\n",
       "  </tbody>\n",
       "</table>\n",
       "</div>"
      ],
      "text/plain": [
       "spending_flag  High spender  Low spender\n",
       "region                                  \n",
       "Midwest               29265      7568060\n",
       "Northeast             18642      5704094\n",
       "South                 40579     10751306\n",
       "West                  31242      8261671"
      ]
     },
     "execution_count": 14,
     "metadata": {},
     "output_type": "execute_result"
    }
   ],
   "source": [
    "# Check results of crosstab\n",
    "crosstab\n"
   ]
  },
  {
   "cell_type": "markdown",
   "metadata": {},
   "source": [
    "##### 4. Task 4 <a class=\"anchor\" id=\"task4\"></a>\n"
   ]
  },
  {
   "cell_type": "markdown",
   "metadata": {},
   "source": [
    "Task 4:  \n",
    "The Instacart CFO isn’t interested in customers who don’t generate much revenue for the app. Create an exclusion flag for low-activity customers (customers with less than 5 orders) and exclude them from the data. Make sure you export this sample.\n"
   ]
  },
  {
   "cell_type": "code",
   "execution_count": 15,
   "metadata": {},
   "outputs": [],
   "source": [
    "# If the maximum orders the user has made is less than 5, then the customer will be flagged for low_activity\n",
    "df_ords_prods_all_pii.loc[df_ords_prods_all_pii['max_order']\n",
    "                          < 5, 'exclusion_flag'] = 'true'\n"
   ]
  },
  {
   "cell_type": "code",
   "execution_count": 16,
   "metadata": {},
   "outputs": [
    {
     "data": {
      "text/plain": [
       "NaN     30964564\n",
       "true     1440295\n",
       "Name: exclusion_flag, dtype: int64"
      ]
     },
     "execution_count": 16,
     "metadata": {},
     "output_type": "execute_result"
    }
   ],
   "source": [
    "# print the frequency of “exclusion_flag”\n",
    "df_ords_prods_all_pii['exclusion_flag'].value_counts(dropna=False)\n"
   ]
  },
  {
   "cell_type": "code",
   "execution_count": 17,
   "metadata": {},
   "outputs": [],
   "source": [
    "# Subset the non low_activity customers into a new dataframe for the Instacard CFO\n",
    "df_final = df_ords_prods_all_pii[df_ords_prods_all_pii['exclusion_flag'] != 'true']\n"
   ]
  },
  {
   "cell_type": "code",
   "execution_count": 18,
   "metadata": {},
   "outputs": [],
   "source": [
    "# Subset the low_activity customers into a new dataframe\n",
    "df_low_activity = df_ords_prods_all_pii[df_ords_prods_all_pii['exclusion_flag'] == 'true']\n"
   ]
  },
  {
   "cell_type": "code",
   "execution_count": 19,
   "metadata": {},
   "outputs": [
    {
     "data": {
      "text/plain": [
       "(30964564, 33)"
      ]
     },
     "execution_count": 19,
     "metadata": {},
     "output_type": "execute_result"
    }
   ],
   "source": [
    "# Count the new dataframe\n",
    "df_final.shape\n"
   ]
  },
  {
   "cell_type": "code",
   "execution_count": 20,
   "metadata": {},
   "outputs": [],
   "source": [
    "# Export the final dataframe\n",
    "df_final.to_pickle(os.path.join(\n",
    "    path, '02 Data', 'Prepared Data', 'df_final.pkl'))\n"
   ]
  },
  {
   "cell_type": "code",
   "execution_count": 21,
   "metadata": {},
   "outputs": [],
   "source": [
    "# Export the low_activity customers df_low_activitydataframe\n",
    "df_low_activity.to_pickle(os.path.join(\n",
    "    path, '02 Data', 'Prepared Data', 'df_low_activity.pkl'))\n"
   ]
  },
  {
   "cell_type": "markdown",
   "metadata": {},
   "source": [
    "##### 5. Task 5 <a class=\"anchor\" id=\"task5\"></a>\n"
   ]
  },
  {
   "cell_type": "markdown",
   "metadata": {},
   "source": [
    "Task 5:  \n",
    "The marketing and business strategy units at Instacart want to create more-relevant marketing strategies for different products and are, thus, curious about customer profiling in their database.\n",
    "\n",
    "Create a profiling variable based on age, income, certain goods in the “department_id” column, and number of dependents. You might also use the “orders_day_of_the_week” and “order_hour_of_day” columns if you can think of a way they would impact customer profiles. (Hint: As an example, try thinking of what characteristics would lead you to the profile “Single adult” or “Young parent.”)\n"
   ]
  },
  {
   "cell_type": "markdown",
   "metadata": {},
   "source": [
    "**Profile: Single adult**\n",
    "\n",
    "- Not married: fam_status not married\n",
    "- No childeren: n_dependants = 0\n",
    "- 18 years and older: age > 18\n",
    "- Dont like to cook: department = canned goods --> (department_id = 14)\n",
    "- Dont like to cook: department = snacks --> (department_id = 18)\n",
    "- Orders in the weekend: orders_day_of_week = saterday and sunday (0 and 6)\n",
    "\n",
    "**Profile: Young parent**\n",
    "\n",
    "- Married: fam_status = married\n",
    "- Has childeren: n_dependants > 0\n",
    "- 30 year max: age < 30\n",
    "- Order baby items: department = babies --> (department_id = 17)\n",
    "- Order houshold items: department = household --> (department_id = 16)\n",
    "- Orders early morning: order_hour_of_day between 6:00 and 10:00\n",
    "\n",
    "**Profile: Old parent**\n",
    "\n",
    "- fMarried: fam_status = married\n",
    "- Have childeren: n_dependants > 0\n",
    "- Older than 30: age > 30\n",
    "- Drink: department = alcohol --> (department_id = 5)\n",
    "- Order international items: department = international --> (department_id = 6)\n",
    "- Orders in late evening: order_hour_of_day between 19:00 and 22:00\n"
   ]
  },
  {
   "cell_type": "code",
   "execution_count": null,
   "metadata": {},
   "outputs": [],
   "source": [
    "# Set the \"Single adult\" profile\n",
    "df_final.loc[(df_final['fam_status'] != 'married') & (\n",
    "    df_final['n_dependants'] == 0) & (\n",
    "    df_final['age'] > 18) & (\n",
    "    df_final['department_id'].isin([14, 18])) & (\n",
    "    df_final['orders_day_of_week'].isin([0, 6])), 'marketing_profile'] = 'Single adult'\n"
   ]
  },
  {
   "cell_type": "code",
   "execution_count": 23,
   "metadata": {},
   "outputs": [],
   "source": [
    "# Set the \"Young partent\" profile\n",
    "df_final.loc[(df_final['fam_status'] == 'married') & (\n",
    "    df_final['n_dependants'] >= 1) & (\n",
    "    df_final['age'] < 30) & (\n",
    "    df_final['department_id'].isin([16, 17])) & (\n",
    "    df_final['order_hour_of_day'].isin([6, 7, 8, 9, 10])), 'marketing_profile'] = 'Young parent'\n"
   ]
  },
  {
   "cell_type": "code",
   "execution_count": 24,
   "metadata": {},
   "outputs": [],
   "source": [
    "# Set the \"Old parent\" profile\n",
    "df_final.loc[(df_final['fam_status'] == 'married') & (\n",
    "    df_final['n_dependants'] >= 1) & (\n",
    "    df_final['age'] > 30) & (\n",
    "    df_final['department_id'].isin([5, 6])) & (\n",
    "    df_final['order_hour_of_day'].isin([19, 20, 21, 22])), 'marketing_profile'] = 'Old parent'\n"
   ]
  },
  {
   "cell_type": "code",
   "execution_count": 25,
   "metadata": {},
   "outputs": [
    {
     "data": {
      "text/plain": [
       "NaN             30712331\n",
       "Young parent      145340\n",
       "Single adult       83043\n",
       "Old parent         23850\n",
       "Name: marketing_profile, dtype: int64"
      ]
     },
     "execution_count": 25,
     "metadata": {},
     "output_type": "execute_result"
    }
   ],
   "source": [
    "df_final['marketing_profile'].value_counts(dropna=False)\n"
   ]
  },
  {
   "cell_type": "code",
   "execution_count": null,
   "metadata": {},
   "outputs": [],
   "source": [
    "# Transform all values in marketing_profile column to be the same value for each user_id (user_id cannot have 2 profiles)\n",
    "\n",
    "df_final['marketing_profile'] = df_final.groupby(\n",
    "    'user_id')['marketing_profile'].transform('first')\n"
   ]
  },
  {
   "cell_type": "code",
   "execution_count": 27,
   "metadata": {},
   "outputs": [
    {
     "data": {
      "text/plain": [
       "NaN             20052001\n",
       "Single adult     4572767\n",
       "Old parent       3807095\n",
       "Young parent     2532701\n",
       "Name: marketing_profile, dtype: int64"
      ]
     },
     "execution_count": 27,
     "metadata": {},
     "output_type": "execute_result"
    }
   ],
   "source": [
    "df_final['marketing_profile'].value_counts(dropna=False)\n"
   ]
  },
  {
   "cell_type": "code",
   "execution_count": null,
   "metadata": {},
   "outputs": [],
   "source": [
    "# Impute all empty cells with 'Other'\n",
    "\n",
    "df_final['marketing_profile'].fillna('Other', inplace=True)\n"
   ]
  },
  {
   "cell_type": "code",
   "execution_count": 29,
   "metadata": {},
   "outputs": [],
   "source": [
    "# Check unique value counts at the customer level (how many unique customers fit into each profile?)\n",
    "\n",
    "unique_profiles = df_final.groupby('marketing_profile')[\n",
    "    'user_id'].nunique().sort_values(ascending=False)\n"
   ]
  },
  {
   "cell_type": "code",
   "execution_count": 30,
   "metadata": {},
   "outputs": [
    {
     "data": {
      "text/plain": [
       "marketing_profile\n",
       "Other           124000\n",
       "Single adult     16174\n",
       "Old parent       11494\n",
       "Young parent     10963\n",
       "Name: user_id, dtype: int64"
      ]
     },
     "execution_count": 30,
     "metadata": {},
     "output_type": "execute_result"
    }
   ],
   "source": [
    "unique_profiles\n"
   ]
  },
  {
   "cell_type": "markdown",
   "metadata": {},
   "source": [
    "##### 6. Task 6 <a class=\"anchor\" id=\"task6\"></a>\n"
   ]
  },
  {
   "cell_type": "markdown",
   "metadata": {},
   "source": [
    "Task 6:  \n",
    "Create an appropriate visualization to show the distribution of profiles.\n"
   ]
  },
  {
   "cell_type": "code",
   "execution_count": 31,
   "metadata": {},
   "outputs": [
    {
     "data": {
      "image/png": "[encoded data removed]",
      "text/plain": [
       "<Figure size 432x288 with 1 Axes>"
      ]
     },
     "metadata": {
      "needs_background": "light"
     },
     "output_type": "display_data"
    }
   ],
   "source": [
    "# Create bar chart of profiles\n",
    "\n",
    "profile_bar = unique_profiles.plot.barh(color=['#FF7D0A'], xlabel='Customer profile',\n",
    "                                        ylabel='No. of customers', title='Number of customers by marketing profile type')\n",
    "plt.tight_layout()\n"
   ]
  },
  {
   "cell_type": "code",
   "execution_count": 32,
   "metadata": {},
   "outputs": [],
   "source": [
    "# Export chart\n",
    "profile_bar.figure.savefig(os.path.join(\n",
    "    path, '04 Analysis', 'Visualizations', 'bar_marketing_profiles_dist.png'))\n"
   ]
  },
  {
   "cell_type": "markdown",
   "metadata": {},
   "source": [
    "##### 7. Task 7 <a class=\"anchor\" id=\"task7\"></a>\n"
   ]
  },
  {
   "cell_type": "markdown",
   "metadata": {},
   "source": [
    "Task 7:  \n",
    "Aggregate the max, mean, and min variables on a customer-profile level for usage frequency and expenditure.\n"
   ]
  },
  {
   "cell_type": "code",
   "execution_count": 33,
   "metadata": {},
   "outputs": [],
   "source": [
    "# Descriptive stats marketing_profile of usage frequency\n",
    "\n",
    "usage_freq_stats = df_final.groupby('marketing_profile').agg(\n",
    "    {'days_since_prior_order': ['mean', 'min', 'max']})\n"
   ]
  },
  {
   "cell_type": "code",
   "execution_count": 34,
   "metadata": {},
   "outputs": [
    {
     "data": {
      "text/html": [
       "<div>\n",
       "<style scoped>\n",
       "    .dataframe tbody tr th:only-of-type {\n",
       "        vertical-align: middle;\n",
       "    }\n",
       "\n",
       "    .dataframe tbody tr th {\n",
       "        vertical-align: top;\n",
       "    }\n",
       "\n",
       "    .dataframe thead tr th {\n",
       "        text-align: left;\n",
       "    }\n",
       "\n",
       "    .dataframe thead tr:last-of-type th {\n",
       "        text-align: right;\n",
       "    }\n",
       "</style>\n",
       "<table border=\"1\" class=\"dataframe\">\n",
       "  <thead>\n",
       "    <tr>\n",
       "      <th></th>\n",
       "      <th colspan=\"3\" halign=\"left\">days_since_prior_order</th>\n",
       "    </tr>\n",
       "    <tr>\n",
       "      <th></th>\n",
       "      <th>mean</th>\n",
       "      <th>min</th>\n",
       "      <th>max</th>\n",
       "    </tr>\n",
       "    <tr>\n",
       "      <th>marketing_profile</th>\n",
       "      <th></th>\n",
       "      <th></th>\n",
       "      <th></th>\n",
       "    </tr>\n",
       "  </thead>\n",
       "  <tbody>\n",
       "    <tr>\n",
       "      <th>Old parent</th>\n",
       "      <td>9.182859</td>\n",
       "      <td>0.0</td>\n",
       "      <td>30.0</td>\n",
       "    </tr>\n",
       "    <tr>\n",
       "      <th>Other</th>\n",
       "      <td>11.386447</td>\n",
       "      <td>0.0</td>\n",
       "      <td>30.0</td>\n",
       "    </tr>\n",
       "    <tr>\n",
       "      <th>Single adult</th>\n",
       "      <td>9.992490</td>\n",
       "      <td>0.0</td>\n",
       "      <td>30.0</td>\n",
       "    </tr>\n",
       "    <tr>\n",
       "      <th>Young parent</th>\n",
       "      <td>10.257626</td>\n",
       "      <td>0.0</td>\n",
       "      <td>30.0</td>\n",
       "    </tr>\n",
       "  </tbody>\n",
       "</table>\n",
       "</div>"
      ],
      "text/plain": [
       "                  days_since_prior_order           \n",
       "                                    mean  min   max\n",
       "marketing_profile                                  \n",
       "Old parent                      9.182859  0.0  30.0\n",
       "Other                          11.386447  0.0  30.0\n",
       "Single adult                    9.992490  0.0  30.0\n",
       "Young parent                   10.257626  0.0  30.0"
      ]
     },
     "execution_count": 34,
     "metadata": {},
     "output_type": "execute_result"
    }
   ],
   "source": [
    "# result\n",
    "\n",
    "usage_freq_stats\n"
   ]
  },
  {
   "cell_type": "code",
   "execution_count": 35,
   "metadata": {},
   "outputs": [],
   "source": [
    "# Descriptive stats marketing_profile of the expenditure\n",
    "\n",
    "prices_stats = df_final.groupby('marketing_profile').agg(\n",
    "    {'prices': ['mean', 'min', 'max']})\n"
   ]
  },
  {
   "cell_type": "code",
   "execution_count": 36,
   "metadata": {},
   "outputs": [
    {
     "data": {
      "text/html": [
       "<div>\n",
       "<style scoped>\n",
       "    .dataframe tbody tr th:only-of-type {\n",
       "        vertical-align: middle;\n",
       "    }\n",
       "\n",
       "    .dataframe tbody tr th {\n",
       "        vertical-align: top;\n",
       "    }\n",
       "\n",
       "    .dataframe thead tr th {\n",
       "        text-align: left;\n",
       "    }\n",
       "\n",
       "    .dataframe thead tr:last-of-type th {\n",
       "        text-align: right;\n",
       "    }\n",
       "</style>\n",
       "<table border=\"1\" class=\"dataframe\">\n",
       "  <thead>\n",
       "    <tr>\n",
       "      <th></th>\n",
       "      <th colspan=\"3\" halign=\"left\">prices</th>\n",
       "    </tr>\n",
       "    <tr>\n",
       "      <th></th>\n",
       "      <th>mean</th>\n",
       "      <th>min</th>\n",
       "      <th>max</th>\n",
       "    </tr>\n",
       "    <tr>\n",
       "      <th>marketing_profile</th>\n",
       "      <th></th>\n",
       "      <th></th>\n",
       "      <th></th>\n",
       "    </tr>\n",
       "  </thead>\n",
       "  <tbody>\n",
       "    <tr>\n",
       "      <th>Old parent</th>\n",
       "      <td>7.844741</td>\n",
       "      <td>1.0</td>\n",
       "      <td>25.0</td>\n",
       "    </tr>\n",
       "    <tr>\n",
       "      <th>Other</th>\n",
       "      <td>7.774584</td>\n",
       "      <td>1.0</td>\n",
       "      <td>25.0</td>\n",
       "    </tr>\n",
       "    <tr>\n",
       "      <th>Single adult</th>\n",
       "      <td>7.821723</td>\n",
       "      <td>1.0</td>\n",
       "      <td>25.0</td>\n",
       "    </tr>\n",
       "    <tr>\n",
       "      <th>Young parent</th>\n",
       "      <td>7.779707</td>\n",
       "      <td>1.0</td>\n",
       "      <td>25.0</td>\n",
       "    </tr>\n",
       "  </tbody>\n",
       "</table>\n",
       "</div>"
      ],
      "text/plain": [
       "                     prices           \n",
       "                       mean  min   max\n",
       "marketing_profile                     \n",
       "Old parent         7.844741  1.0  25.0\n",
       "Other              7.774584  1.0  25.0\n",
       "Single adult       7.821723  1.0  25.0\n",
       "Young parent       7.779707  1.0  25.0"
      ]
     },
     "execution_count": 36,
     "metadata": {},
     "output_type": "execute_result"
    }
   ],
   "source": [
    "# result\n",
    "\n",
    "prices_stats\n"
   ]
  },
  {
   "cell_type": "markdown",
   "metadata": {},
   "source": [
    "##### 8. Task 8 <a class=\"anchor\" id=\"task8\"></a>\n"
   ]
  },
  {
   "cell_type": "markdown",
   "metadata": {},
   "source": [
    "Task: 8  \n",
    "Compare your customer profiles with regions and departments. Can you identify a link between them? Customers may demonstrate different behaviors across regions, which could make this information important.\n"
   ]
  },
  {
   "cell_type": "code",
   "execution_count": 37,
   "metadata": {},
   "outputs": [],
   "source": [
    "# crosstab of marketing_profile & region variables\n",
    "\n",
    "crosstab_profile_region = pd.crosstab(\n",
    "    df_final['marketing_profile'], df_final['region'], dropna=False)\n"
   ]
  },
  {
   "cell_type": "code",
   "execution_count": 38,
   "metadata": {},
   "outputs": [
    {
     "data": {
      "text/html": [
       "<div>\n",
       "<style scoped>\n",
       "    .dataframe tbody tr th:only-of-type {\n",
       "        vertical-align: middle;\n",
       "    }\n",
       "\n",
       "    .dataframe tbody tr th {\n",
       "        vertical-align: top;\n",
       "    }\n",
       "\n",
       "    .dataframe thead th {\n",
       "        text-align: right;\n",
       "    }\n",
       "</style>\n",
       "<table border=\"1\" class=\"dataframe\">\n",
       "  <thead>\n",
       "    <tr style=\"text-align: right;\">\n",
       "      <th>region</th>\n",
       "      <th>Midwest</th>\n",
       "      <th>Northeast</th>\n",
       "      <th>South</th>\n",
       "      <th>West</th>\n",
       "    </tr>\n",
       "    <tr>\n",
       "      <th>marketing_profile</th>\n",
       "      <th></th>\n",
       "      <th></th>\n",
       "      <th></th>\n",
       "      <th></th>\n",
       "    </tr>\n",
       "  </thead>\n",
       "  <tbody>\n",
       "    <tr>\n",
       "      <th>Old parent</th>\n",
       "      <td>882751</td>\n",
       "      <td>678011</td>\n",
       "      <td>1267535</td>\n",
       "      <td>978798</td>\n",
       "    </tr>\n",
       "    <tr>\n",
       "      <th>Other</th>\n",
       "      <td>4710165</td>\n",
       "      <td>3548951</td>\n",
       "      <td>6683495</td>\n",
       "      <td>5109390</td>\n",
       "    </tr>\n",
       "    <tr>\n",
       "      <th>Single adult</th>\n",
       "      <td>1074084</td>\n",
       "      <td>797256</td>\n",
       "      <td>1521858</td>\n",
       "      <td>1179569</td>\n",
       "    </tr>\n",
       "    <tr>\n",
       "      <th>Young parent</th>\n",
       "      <td>594513</td>\n",
       "      <td>440467</td>\n",
       "      <td>838251</td>\n",
       "      <td>659470</td>\n",
       "    </tr>\n",
       "  </tbody>\n",
       "</table>\n",
       "</div>"
      ],
      "text/plain": [
       "region             Midwest  Northeast    South     West\n",
       "marketing_profile                                      \n",
       "Old parent          882751     678011  1267535   978798\n",
       "Other              4710165    3548951  6683495  5109390\n",
       "Single adult       1074084     797256  1521858  1179569\n",
       "Young parent        594513     440467   838251   659470"
      ]
     },
     "execution_count": 38,
     "metadata": {},
     "output_type": "execute_result"
    }
   ],
   "source": [
    "# Result\n",
    "\n",
    "crosstab_profile_region\n"
   ]
  },
  {
   "cell_type": "code",
   "execution_count": 39,
   "metadata": {},
   "outputs": [
    {
     "data": {
      "image/png": "[encoded data removed]",
      "text/plain": [
       "<Figure size 432x288 with 1 Axes>"
      ]
     },
     "metadata": {
      "needs_background": "light"
     },
     "output_type": "display_data"
    }
   ],
   "source": [
    "plot_crosstab_profile_region = crosstab_profile_region.plot(\n",
    "    kind='bar', stacked=True, rot=0)\n",
    "plot_crosstab_profile_region.legend(\n",
    "    title='Region', bbox_to_anchor=(1, 1.02), loc='upper left');\n"
   ]
  },
  {
   "cell_type": "code",
   "execution_count": 40,
   "metadata": {},
   "outputs": [],
   "source": [
    "# Export chart\n",
    "plot_crosstab_profile_region.figure.savefig(os.path.join(\n",
    "    path, '04 Analysis', 'Visualizations', 'plot_crosstab_profile_region.png'))\n"
   ]
  },
  {
   "cell_type": "markdown",
   "metadata": {},
   "source": [
    "##### 9. Task 9 <a class=\"anchor\" id=\"task9\"></a>\n"
   ]
  },
  {
   "cell_type": "markdown",
   "metadata": {},
   "source": [
    "Task 9:\n",
    "Produce suitable charts to illustrate your results and export them in your project folder.\n"
   ]
  },
  {
   "cell_type": "code",
   "execution_count": 41,
   "metadata": {},
   "outputs": [],
   "source": [
    "# Crosstab of marketing_profile & spending_flag\n",
    "crosstab_profile_spending_flag = pd.crosstab(\n",
    "    df_final['marketing_profile'], df_final['spending_flag'], dropna=False)\n"
   ]
  },
  {
   "cell_type": "code",
   "execution_count": 42,
   "metadata": {},
   "outputs": [
    {
     "data": {
      "text/html": [
       "<div>\n",
       "<style scoped>\n",
       "    .dataframe tbody tr th:only-of-type {\n",
       "        vertical-align: middle;\n",
       "    }\n",
       "\n",
       "    .dataframe tbody tr th {\n",
       "        vertical-align: top;\n",
       "    }\n",
       "\n",
       "    .dataframe thead th {\n",
       "        text-align: right;\n",
       "    }\n",
       "</style>\n",
       "<table border=\"1\" class=\"dataframe\">\n",
       "  <thead>\n",
       "    <tr style=\"text-align: right;\">\n",
       "      <th>spending_flag</th>\n",
       "      <th>High spender</th>\n",
       "      <th>Low spender</th>\n",
       "    </tr>\n",
       "    <tr>\n",
       "      <th>marketing_profile</th>\n",
       "      <th></th>\n",
       "      <th></th>\n",
       "    </tr>\n",
       "  </thead>\n",
       "  <tbody>\n",
       "    <tr>\n",
       "      <th>Old parent</th>\n",
       "      <td>4861</td>\n",
       "      <td>3802234</td>\n",
       "    </tr>\n",
       "    <tr>\n",
       "      <th>Other</th>\n",
       "      <td>81987</td>\n",
       "      <td>19970014</td>\n",
       "    </tr>\n",
       "    <tr>\n",
       "      <th>Single adult</th>\n",
       "      <td>6379</td>\n",
       "      <td>4566388</td>\n",
       "    </tr>\n",
       "    <tr>\n",
       "      <th>Young parent</th>\n",
       "      <td>4216</td>\n",
       "      <td>2528485</td>\n",
       "    </tr>\n",
       "  </tbody>\n",
       "</table>\n",
       "</div>"
      ],
      "text/plain": [
       "spending_flag      High spender  Low spender\n",
       "marketing_profile                           \n",
       "Old parent                 4861      3802234\n",
       "Other                     81987     19970014\n",
       "Single adult               6379      4566388\n",
       "Young parent               4216      2528485"
      ]
     },
     "execution_count": 42,
     "metadata": {},
     "output_type": "execute_result"
    }
   ],
   "source": [
    "#\n",
    "crosstab_profile_spending_flag\n"
   ]
  },
  {
   "cell_type": "code",
   "execution_count": 43,
   "metadata": {},
   "outputs": [
    {
     "data": {
      "image/png": "[encoded data removed]",
      "text/plain": [
       "<Figure size 432x288 with 1 Axes>"
      ]
     },
     "metadata": {
      "needs_background": "light"
     },
     "output_type": "display_data"
    }
   ],
   "source": [
    "plot_crosstab_profile_spending_flag = crosstab_profile_spending_flag.plot(\n",
    "    kind='bar', stacked=True, rot=0)\n",
    "plot_crosstab_profile_spending_flag.legend(\n",
    "    title='Type', bbox_to_anchor=(1, 1.02), loc='upper left');\n"
   ]
  },
  {
   "cell_type": "code",
   "execution_count": 44,
   "metadata": {},
   "outputs": [],
   "source": [
    "# Export chart\n",
    "plot_crosstab_profile_spending_flag.figure.savefig(os.path.join(\n",
    "    path, '04 Analysis', 'Visualizations', 'plot_crosstab_profile_spending_flag.png'))\n"
   ]
  },
  {
   "cell_type": "code",
   "execution_count": 45,
   "metadata": {},
   "outputs": [],
   "source": [
    "# Crosstab of marketing_profile & order_frequency_flag\n",
    "\n",
    "crosstab_profile_order_frequency_flag = pd.crosstab(\n",
    "    df_final['marketing_profile'], df_final['order_frequency_flag'], dropna=False)\n"
   ]
  },
  {
   "cell_type": "code",
   "execution_count": 46,
   "metadata": {},
   "outputs": [
    {
     "data": {
      "text/html": [
       "<div>\n",
       "<style scoped>\n",
       "    .dataframe tbody tr th:only-of-type {\n",
       "        vertical-align: middle;\n",
       "    }\n",
       "\n",
       "    .dataframe tbody tr th {\n",
       "        vertical-align: top;\n",
       "    }\n",
       "\n",
       "    .dataframe thead th {\n",
       "        text-align: right;\n",
       "    }\n",
       "</style>\n",
       "<table border=\"1\" class=\"dataframe\">\n",
       "  <thead>\n",
       "    <tr style=\"text-align: right;\">\n",
       "      <th>order_frequency_flag</th>\n",
       "      <th>Frequent customer</th>\n",
       "      <th>Non-frequent customer</th>\n",
       "      <th>Regular customer</th>\n",
       "    </tr>\n",
       "    <tr>\n",
       "      <th>marketing_profile</th>\n",
       "      <th></th>\n",
       "      <th></th>\n",
       "      <th></th>\n",
       "    </tr>\n",
       "  </thead>\n",
       "  <tbody>\n",
       "    <tr>\n",
       "      <th>Old parent</th>\n",
       "      <td>3037453</td>\n",
       "      <td>165240</td>\n",
       "      <td>604402</td>\n",
       "    </tr>\n",
       "    <tr>\n",
       "      <th>Other</th>\n",
       "      <td>12915108</td>\n",
       "      <td>2275239</td>\n",
       "      <td>4861654</td>\n",
       "    </tr>\n",
       "    <tr>\n",
       "      <th>Single adult</th>\n",
       "      <td>3407650</td>\n",
       "      <td>277792</td>\n",
       "      <td>887325</td>\n",
       "    </tr>\n",
       "    <tr>\n",
       "      <th>Young parent</th>\n",
       "      <td>1844265</td>\n",
       "      <td>176704</td>\n",
       "      <td>511732</td>\n",
       "    </tr>\n",
       "  </tbody>\n",
       "</table>\n",
       "</div>"
      ],
      "text/plain": [
       "order_frequency_flag  Frequent customer  Non-frequent customer  \\\n",
       "marketing_profile                                                \n",
       "Old parent                      3037453                 165240   \n",
       "Other                          12915108                2275239   \n",
       "Single adult                    3407650                 277792   \n",
       "Young parent                    1844265                 176704   \n",
       "\n",
       "order_frequency_flag  Regular customer  \n",
       "marketing_profile                       \n",
       "Old parent                      604402  \n",
       "Other                          4861654  \n",
       "Single adult                    887325  \n",
       "Young parent                    511732  "
      ]
     },
     "execution_count": 46,
     "metadata": {},
     "output_type": "execute_result"
    }
   ],
   "source": [
    "crosstab_profile_order_frequency_flag\n"
   ]
  },
  {
   "cell_type": "code",
   "execution_count": 47,
   "metadata": {},
   "outputs": [
    {
     "data": {
      "image/png": "[encoded data removed]",
      "text/plain": [
       "<Figure size 432x288 with 1 Axes>"
      ]
     },
     "metadata": {
      "needs_background": "light"
     },
     "output_type": "display_data"
    }
   ],
   "source": [
    "plot_crosstab_profile_order_frequency_flag = crosstab_profile_order_frequency_flag.plot(\n",
    "    kind='bar', stacked=True, rot=0)\n",
    "plot_crosstab_profile_order_frequency_flag.legend(\n",
    "    title='Customer type', bbox_to_anchor=(1, 1.02), loc='upper left');\n"
   ]
  },
  {
   "cell_type": "code",
   "execution_count": 48,
   "metadata": {},
   "outputs": [],
   "source": [
    "# Export chart\n",
    "plot_crosstab_profile_order_frequency_flag.figure.savefig(os.path.join(\n",
    "    path, '04 Analysis', 'Visualizations', 'plot_crosstab_profile_order_frequency_flag.png'))\n"
   ]
  },
  {
   "cell_type": "code",
   "execution_count": 49,
   "metadata": {},
   "outputs": [],
   "source": [
    "# Check unique value counts at the customer level \n",
    "\n",
    "unique_price_range = df_final.groupby('price_range_loc')[\n",
    "    'order_id'].nunique().sort_values(ascending=False)"
   ]
  },
  {
   "cell_type": "code",
   "execution_count": 50,
   "metadata": {},
   "outputs": [
    {
     "data": {
      "image/png": "[encoded data removed]",
      "text/plain": [
       "<Figure size 432x288 with 1 Axes>"
      ]
     },
     "metadata": {
      "needs_background": "light"
     },
     "output_type": "display_data"
    }
   ],
   "source": [
    "# Create bar chart of orders by price_range\n",
    "\n",
    "price_range_bar = unique_price_range.plot.bar(xlabel='Price range',\n",
    "                                        ylabel='#Orders', title='# Orders by Price range')\n",
    "plt.tight_layout()"
   ]
  },
  {
   "cell_type": "code",
   "execution_count": 51,
   "metadata": {},
   "outputs": [],
   "source": [
    "# Export chart\n",
    "price_range_bar.figure.savefig(os.path.join(\n",
    "    path, '04 Analysis', 'Visualizations', 'price_range_bar.png'))"
   ]
  },
  {
   "cell_type": "code",
   "execution_count": 52,
   "metadata": {},
   "outputs": [
    {
     "data": {
      "image/png": "[encoded data removed]",
      "text/plain": [
       "<Figure size 432x288 with 1 Axes>"
      ]
     },
     "metadata": {
      "needs_background": "light"
     },
     "output_type": "display_data"
    }
   ],
   "source": [
    "# Bar chart for orders by department id\n",
    "df_final['department_id'].value_counts().plot.bar(xlabel='Department Id',\n",
    "                                        ylabel='# of Orders', title='# Orders by departments');"
   ]
  },
  {
   "cell_type": "code",
   "execution_count": 53,
   "metadata": {},
   "outputs": [],
   "source": [
    "# crosstab of loyalty_flag & price_range variables\n",
    "\n",
    "crosstab_loyalty_price_range= pd.crosstab(\n",
    "    df_final['loyalty_flag'], df_final['price_range_loc'], dropna=False)\n"
   ]
  },
  {
   "cell_type": "code",
   "execution_count": 54,
   "metadata": {},
   "outputs": [
    {
     "data": {
      "image/png": "[encoded data removed]",
      "text/plain": [
       "<Figure size 432x288 with 1 Axes>"
      ]
     },
     "metadata": {
      "needs_background": "light"
     },
     "output_type": "display_data"
    }
   ],
   "source": [
    "plot_crosstab_loyalty_price_range= crosstab_loyalty_price_range.plot(\n",
    "    kind='bar', stacked=True, rot=0, title = 'Customer type vs Price range' ,ylabel = '# of Orders', xlabel = 'Customer type')\n",
    "plot_crosstab_loyalty_price_range.legend(\n",
    "    title='Price Range', bbox_to_anchor=(1, 1.02), loc='upper left');"
   ]
  },
  {
   "cell_type": "code",
   "execution_count": 55,
   "metadata": {},
   "outputs": [],
   "source": [
    "# Export chart\n",
    "plot_crosstab_loyalty_price_range.figure.savefig(os.path.join(\n",
    "    path, '04 Analysis', 'Visualizations', 'plot_crosstab_loyalty_price_range.png'))\n"
   ]
  },
  {
   "cell_type": "code",
   "execution_count": 56,
   "metadata": {},
   "outputs": [],
   "source": [
    "# crosstab of loyalty_flag & region variables\n",
    "\n",
    "crosstab_loyalty_flag_region = pd.crosstab(\n",
    "    df_final['loyalty_flag'], df_final['region'], dropna=False)"
   ]
  },
  {
   "cell_type": "code",
   "execution_count": 57,
   "metadata": {},
   "outputs": [
    {
     "data": {
      "image/png": "[encoded data removed]",
      "text/plain": [
       "<Figure size 432x288 with 1 Axes>"
      ]
     },
     "metadata": {
      "needs_background": "light"
     },
     "output_type": "display_data"
    }
   ],
   "source": [
    "plot_crosstab_loyalty_flag_region = crosstab_loyalty_flag_region.plot(\n",
    "    kind='bar', stacked=True, rot=0, title = 'Customer type vs Region', ylabel = '# of Orders', xlabel = 'Customer type')\n",
    "plot_crosstab_loyalty_flag_region.legend(\n",
    "    title='Region', bbox_to_anchor=(1, 1.02), loc='upper left');"
   ]
  },
  {
   "cell_type": "code",
   "execution_count": 58,
   "metadata": {},
   "outputs": [],
   "source": [
    "# Export chart\n",
    "plot_crosstab_loyalty_flag_region.figure.savefig(os.path.join(\n",
    "    path, '04 Analysis', 'Visualizations', 'plot_crosstab_loyalty_flag_region.png'))\n"
   ]
  },
  {
   "cell_type": "code",
   "execution_count": 59,
   "metadata": {},
   "outputs": [
    {
     "data": {
      "image/png": "[encoded data removed]",
      "text/plain": [
       "<Figure size 432x288 with 1 Axes>"
      ]
     },
     "metadata": {
      "needs_background": "light"
     },
     "output_type": "display_data"
    }
   ],
   "source": [
    "# Use scatterplot to investigate the “age” column against \"fam_status\" column \n",
    "\n",
    "scatter_age_fam_status = sns.scatterplot(x = 'age', y = 'fam_status',data = df_final);"
   ]
  },
  {
   "cell_type": "code",
   "execution_count": 60,
   "metadata": {},
   "outputs": [],
   "source": [
    "# Export chart\n",
    "scatter_age_fam_status.figure.savefig(os.path.join(\n",
    "    path, '04 Analysis', 'Visualizations', 'scatter_age_fam_status.png'))"
   ]
  },
  {
   "cell_type": "code",
   "execution_count": 66,
   "metadata": {},
   "outputs": [],
   "source": [
    "crosstab_loyalty_flag_age = pd.crosstab(\n",
    "    df_final['loyalty_flag'], df_final['age'], dropna=False)"
   ]
  },
  {
   "cell_type": "code",
   "execution_count": 73,
   "metadata": {},
   "outputs": [],
   "source": [
    "# Create list \"age_category\" based on age value in df_final[\n",
    "age_category = []\n",
    "\n",
    "for value in df_final[\"age\"]:\n",
    "    if value < 20:\n",
    "        age_category.append(\"0 - 19\")\n",
    "    elif 20 <= value < 40 :\n",
    "        age_category.append(\"20 - 39\")\n",
    "    elif 40 <= value < 60 :\n",
    "        age_category.append(\"40 - 59\")\n",
    "    elif 60 <= value < 80 :\n",
    "        age_category.append(\"60 - 80\")\n",
    "    else:\n",
    "        age_category.append(\"80+\")"
   ]
  },
  {
   "cell_type": "code",
   "execution_count": null,
   "metadata": {},
   "outputs": [],
   "source": [
    "# Combining age_categoryn list with df_final\n",
    "df_final['age_category'] = age_category "
   ]
  },
  {
   "cell_type": "code",
   "execution_count": 75,
   "metadata": {},
   "outputs": [
    {
     "data": {
      "text/plain": [
       "40 - 59    9724950\n",
       "20 - 39    9690576\n",
       "60 - 80    9595907\n",
       "80+         978597\n",
       "0 - 19      974534\n",
       "Name: age_category, dtype: int64"
      ]
     },
     "execution_count": 75,
     "metadata": {},
     "output_type": "execute_result"
    }
   ],
   "source": [
    "# Check the values for column region\n",
    "df_final['age_category'].value_counts(dropna=False)"
   ]
  },
  {
   "cell_type": "code",
   "execution_count": 80,
   "metadata": {},
   "outputs": [],
   "source": [
    "# crosstab of loyalty_flag & age range variables\n",
    "\n",
    "crosstab_loyalty_age_range= pd.crosstab(\n",
    "    df_final['loyalty_flag'], df_final['age_category'], dropna=False)"
   ]
  },
  {
   "cell_type": "code",
   "execution_count": 94,
   "metadata": {},
   "outputs": [
    {
     "data": {
      "image/png": "[encoded data removed]",
      "text/plain": [
       "<Figure size 432x288 with 1 Axes>"
      ]
     },
     "metadata": {
      "needs_background": "light"
     },
     "output_type": "display_data"
    }
   ],
   "source": [
    "plot_crosstab_loyalty_age_range = crosstab_loyalty_age_range.plot(\n",
    "    kind='bar', stacked=True, rot=0, title = 'Customer type vs Age', ylabel = '# of Orders', xlabel = 'Customer type')\n",
    "plot_crosstab_loyalty_age_range.legend(\n",
    "    title='Age range', bbox_to_anchor=(1, 1.02), loc='upper left');"
   ]
  },
  {
   "cell_type": "code",
   "execution_count": 95,
   "metadata": {},
   "outputs": [],
   "source": [
    "# Export chart\n",
    "plot_crosstab_loyalty_age_range.figure.savefig(os.path.join(\n",
    "    path, '04 Analysis', 'Visualizations', 'plot_crosstab_loyalty_age_range.png'))"
   ]
  },
  {
   "cell_type": "code",
   "execution_count": 85,
   "metadata": {},
   "outputs": [],
   "source": [
    "# crosstab of Price range & fam_status\n",
    "\n",
    "crosstab_price_range_fam_satus= pd.crosstab(\n",
    "    df_final['price_range_loc'], df_final['fam_status'], dropna=False)"
   ]
  },
  {
   "cell_type": "code",
   "execution_count": 88,
   "metadata": {},
   "outputs": [
    {
     "data": {
      "image/png": "[encoded data removed]",
      "text/plain": [
       "<Figure size 432x288 with 1 Axes>"
      ]
     },
     "metadata": {
      "needs_background": "light"
     },
     "output_type": "display_data"
    }
   ],
   "source": [
    "plot_crosstab_price_range_fam_satus = crosstab_price_range_fam_satus.plot(\n",
    "    kind='bar', stacked=True, rot=0, title = 'Price Range vs Family Status', ylabel = '# of Orders', xlabel = 'Price Range')\n",
    "plot_crosstab_price_range_fam_satus.legend(\n",
    "    title='Family Status', bbox_to_anchor=(1, 1.02), loc='upper left');"
   ]
  },
  {
   "cell_type": "code",
   "execution_count": 89,
   "metadata": {},
   "outputs": [],
   "source": [
    "# Export chart\n",
    "plot_crosstab_price_range_fam_satus.figure.savefig(os.path.join(\n",
    "    path, '04 Analysis', 'Visualizations', 'plot_crosstab_price_range_fam_satus.png'))"
   ]
  },
  {
   "cell_type": "code",
   "execution_count": 90,
   "metadata": {},
   "outputs": [],
   "source": [
    "# crosstab of Price range & age range\n",
    "\n",
    "crosstab_price_range_age_category = pd.crosstab(\n",
    "    df_final['price_range_loc'], df_final['age_category'], dropna=False)"
   ]
  },
  {
   "cell_type": "code",
   "execution_count": 92,
   "metadata": {},
   "outputs": [
    {
     "data": {
      "image/png": "[encoded data removed]",
      "text/plain": [
       "<Figure size 432x288 with 1 Axes>"
      ]
     },
     "metadata": {
      "needs_background": "light"
     },
     "output_type": "display_data"
    }
   ],
   "source": [
    "plot_crosstab_price_range_age_category = crosstab_price_range_age_category.plot(\n",
    "    kind='bar', stacked=True, rot=0, title = 'Price Range vs Age', ylabel = '# of Orders', xlabel = 'Price Range')\n",
    "plot_crosstab_price_range_age_category.legend(\n",
    "    title='Age Range', bbox_to_anchor=(1, 1.02), loc='upper left');"
   ]
  },
  {
   "cell_type": "code",
   "execution_count": 93,
   "metadata": {},
   "outputs": [],
   "source": [
    "# Export chart\n",
    "plot_crosstab_price_range_age_category.figure.savefig(os.path.join(\n",
    "    path, '04 Analysis', 'Visualizations', 'plot_crosstab_price_range_age_category.png'))"
   ]
  },
  {
   "cell_type": "code",
   "execution_count": null,
   "metadata": {},
   "outputs": [],
   "source": [
    "# Export the final dataframe with marketing profile \n",
    "df_final.to_pickle(os.path.join(\n",
    "    path, '02 Data', 'Prepared Data', 'df_final_with_profile.pkl'))"
   ]
  }
 ],
 "metadata": {
  "interpreter": {
   "hash": "cb10f57311695518ab5c143d1ab66256429f755ab7d81f20b84631e6f275f814"
  },
  "kernelspec": {
   "display_name": "Python 3.10.0 64-bit ('minimal_ds': conda)",
   "language": "python",
   "name": "python3"
  },
  "language_info": {
   "codemirror_mode": {
    "name": "ipython",
    "version": 3
   },
   "file_extension": ".py",
   "mimetype": "text/x-python",
   "name": "python",
   "nbconvert_exporter": "python",
   "pygments_lexer": "ipython3",
   "version": "3.10.0"
  },
  "orig_nbformat": 4
 },
 "nbformat": 4,
 "nbformat_minor": 2
}
